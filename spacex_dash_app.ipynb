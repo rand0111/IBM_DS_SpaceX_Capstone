{
 "cells": [
  {
   "cell_type": "markdown",
   "id": "b0e6ea9f",
   "metadata": {},
   "source": [
    "## SpaceX dash application"
   ]
  },
  {
   "cell_type": "code",
   "execution_count": 1,
   "id": "9b967efd",
   "metadata": {},
   "outputs": [
    {
     "name": "stderr",
     "output_type": "stream",
     "text": [
      "/tmp/ipykernel_32691/1399112611.py:4: UserWarning: \n",
      "The dash_html_components package is deprecated. Please replace\n",
      "`import dash_html_components as html` with `from dash import html`\n",
      "  import dash_html_components as html\n",
      "/tmp/ipykernel_32691/1399112611.py:5: UserWarning: \n",
      "The dash_core_components package is deprecated. Please replace\n",
      "`import dash_core_components as dcc` with `from dash import dcc`\n",
      "  import dash_core_components as dcc\n"
     ]
    }
   ],
   "source": [
    "# Import required libraries\n",
    "import pandas as pd\n",
    "import dash\n",
    "import dash_html_components as html\n",
    "import dash_core_components as dcc\n",
    "from dash.dependencies import Input, Output\n",
    "import plotly.express as px"
   ]
  },
  {
   "cell_type": "code",
   "execution_count": 2,
   "id": "57fcf678",
   "metadata": {},
   "outputs": [],
   "source": [
    "# Read the airline data into pandas dataframe\n",
    "spacex_df = pd.read_csv(\"spacex_launch_dash.csv\")\n",
    "#default slider boundaries(which is equal to current min and max)\n",
    "max_payload = spacex_df['Payload Mass (kg)'].max()\n",
    "min_payload = spacex_df['Payload Mass (kg)'].min()\n",
    "#filtered dataframes for pie and scatter plot\n",
    "suc_rate_all_df = spacex_df[['Launch Site', 'class']].groupby('Launch Site').mean().reset_index()\n",
    "filtered_df = spacex_df[['Launch Site', 'class', 'Payload Mass (kg)']]\n",
    "\n",
    "sites_dict = {'site1':'CCAFS LC-40', 'site2':'VAFB SLC-4E', 'site3':'KSC LC-39A','site4': 'CCAFS SLC-40'}"
   ]
  },
  {
   "cell_type": "code",
   "execution_count": 3,
   "id": "6453cd9e",
   "metadata": {},
   "outputs": [],
   "source": [
    "# Create a dash application\n",
    "app = dash.Dash(__name__)\n"
   ]
  },
  {
   "cell_type": "code",
   "execution_count": 4,
   "id": "7a9f7c2f",
   "metadata": {},
   "outputs": [],
   "source": [
    "# Create an app layout\n",
    "app.layout = html.Div(children=[html.H1('SpaceX Launch Records Dashboard',\n",
    "                                        style={'textAlign': 'center', 'color': '#503D36',\n",
    "                                               'font-size': 40}),\n",
    "                                # The default select value is for ALL sites\n",
    "                                  dcc.Dropdown(id='site-dropdown',\n",
    "                                                options=[\n",
    "                                                    {'label': 'All Sites', 'value': 'ALL'},\n",
    "                                                    {'label': 'CCAFS LC-40', 'value': 'site1'},\n",
    "                                                    {'label': 'VAFB SLC-4E', 'value': 'site2'},\n",
    "                                                    {'label': 'KSC LC-39A', 'value': 'site3'},\n",
    "                                                    {'label': 'CCAFS SLC-40', 'value': 'site4'}],\n",
    "                                                value='ALL',\n",
    "                                                placeholder=\"All sites\",\n",
    "                                                searchable=True),\n",
    "                                    html.Br(),\n",
    "\n",
    "                                # If a specific launch site was selected, show the Success vs. Failed counts for the site\n",
    "                                html.P(\"Succes chart:\"),\n",
    "                                html.Div(dcc.Graph(id='success-pie-chart')),\n",
    "                                html.Br(),\n",
    "                                html.P(\"Payload range (Kg):\"),\n",
    "                                dcc.RangeSlider(id='payload-slider',\n",
    "                                                min=0,\n",
    "                                                max=10000,\n",
    "                                                step=1000,\n",
    "                                                marks={0: '0',\n",
    "                                                       2500: '2500',\n",
    "                                                       5000: '5000',\n",
    "                                                       7500: '7500',\n",
    "                                                       10000: '10000'},\n",
    "                                                value=[min_payload, max_payload]),                                \n",
    "                                html.Div(dcc.Graph(id='success-payload-scatter-chart')),\n",
    "                                ])"
   ]
  },
  {
   "cell_type": "code",
   "execution_count": 5,
   "id": "1701d40f",
   "metadata": {},
   "outputs": [],
   "source": [
    "#pie chart callback\n",
    "@app.callback(Output(component_id='success-pie-chart', component_property='figure'),\n",
    "              Input(component_id='site-dropdown', component_property='value'))\n",
    "\n",
    "def get_pie_chart(entered_site):\n",
    "    if entered_site == 'ALL':\n",
    "        fig = px.pie(suc_rate_all_df, values='class', \n",
    "        names='Launch Site', \n",
    "        title='Total Success Launches By Site')\n",
    "        return fig\n",
    "    else:\n",
    "        suc_rate_site = suc_rate_all_df[suc_rate_all_df['Launch Site'] == sites_dict[entered_site]]\n",
    "        rates = [float(suc_rate_site['class']), float(1-suc_rate_site['class'])]\n",
    "        fig = px.pie(rates, values=rates,\n",
    "        names=['1','0'],\n",
    "        color=['1','0'],\n",
    "        color_discrete_map={'0':'red', '1':'green'},\n",
    "        title='Total success launches for site ' + sites_dict[entered_site])\n",
    "        return fig"
   ]
  },
  {
   "cell_type": "code",
   "execution_count": 6,
   "id": "13603da8",
   "metadata": {},
   "outputs": [],
   "source": [
    "#scatter plot callback\n",
    "@app.callback(Output(component_id='success-payload-scatter-chart', component_property='figure'),\n",
    "              [Input(component_id='site-dropdown', component_property='value'),\n",
    "               Input(component_id=\"payload-slider\", component_property=\"value\")])\n",
    "\n",
    "def get_scatter_plot(entered_site, slider):\n",
    "    plot_df = filtered_df[filtered_df['Payload Mass (kg)'] <= slider[1]]\n",
    "    plot_df = plot_df[plot_df['Payload Mass (kg)'] >= slider[0]]\n",
    "    if entered_site == 'ALL':\n",
    "        fig = px.scatter(plot_df,\n",
    "                         x='Payload Mass (kg)',\n",
    "                         y='class',\n",
    "                         color = 'Launch Site',\n",
    "                         title= 'Correlation between Payload and Success for all Sites')\n",
    "    else:\n",
    "        plot_df = plot_df[plot_df['Launch Site'] == sites_dict[entered_site]]\n",
    "        fig = px.scatter(plot_df,\n",
    "                         x='Payload Mass (kg)',\n",
    "                         y='class',\n",
    "                         title= 'Correlation between Payload and Success for ' + sites_dict[entered_site])\n",
    "    return fig"
   ]
  },
  {
   "cell_type": "code",
   "execution_count": null,
   "id": "acf686e8",
   "metadata": {},
   "outputs": [
    {
     "name": "stdout",
     "output_type": "stream",
     "text": [
      "Dash is running on http://127.0.0.1:8050/\n",
      "\n",
      " * Serving Flask app '__main__' (lazy loading)\n",
      " * Environment: production\n",
      "\u001b[31m   WARNING: This is a development server. Do not use it in a production deployment.\u001b[0m\n",
      "\u001b[2m   Use a production WSGI server instead.\u001b[0m\n",
      " * Debug mode: off\n"
     ]
    },
    {
     "name": "stderr",
     "output_type": "stream",
     "text": [
      " * Running on http://127.0.0.1:8050/ (Press CTRL+C to quit)\n",
      "127.0.0.1 - - [05/Oct/2021 18:48:16] \"GET / HTTP/1.1\" 200 -\n",
      "127.0.0.1 - - [05/Oct/2021 18:48:16] \"GET /_dash-component-suites/dash/deps/react-dom@16.v2_0_0m1632749793.14.0.min.js HTTP/1.1\" 200 -\n",
      "127.0.0.1 - - [05/Oct/2021 18:48:16] \"GET /_dash-component-suites/dash/html/dash_html_components.v2_0_0m1632749793.min.js HTTP/1.1\" 200 -\n",
      "127.0.0.1 - - [05/Oct/2021 18:48:16] \"GET /_dash-component-suites/dash/dash-renderer/build/dash_renderer.v2_0_0m1632749793.min.js HTTP/1.1\" 200 -\n",
      "127.0.0.1 - - [05/Oct/2021 18:48:16] \"GET /_dash-component-suites/dash/dcc/dash_core_components.v2_0_0m1632749793.js HTTP/1.1\" 200 -\n",
      "127.0.0.1 - - [05/Oct/2021 18:48:16] \"GET /_dash-layout HTTP/1.1\" 200 -\n",
      "127.0.0.1 - - [05/Oct/2021 18:48:16] \"GET /_dash-dependencies HTTP/1.1\" 200 -\n",
      "127.0.0.1 - - [05/Oct/2021 18:48:16] \"GET /_favicon.ico?v=2.0.0 HTTP/1.1\" 200 -\n",
      "127.0.0.1 - - [05/Oct/2021 18:48:16] \"GET /_dash-component-suites/dash/dcc/async-graph.js HTTP/1.1\" 200 -\n",
      "127.0.0.1 - - [05/Oct/2021 18:48:16] \"GET /_dash-component-suites/dash/dcc/async-slider.js HTTP/1.1\" 200 -\n",
      "127.0.0.1 - - [05/Oct/2021 18:48:16] \"GET /_dash-component-suites/dash/dcc/async-dropdown.js HTTP/1.1\" 200 -\n",
      "127.0.0.1 - - [05/Oct/2021 18:48:16] \"GET /_dash-component-suites/dash/dcc/async-plotlyjs.js HTTP/1.1\" 200 -\n",
      "127.0.0.1 - - [05/Oct/2021 18:48:18] \"POST /_dash-update-component HTTP/1.1\" 200 -\n",
      "127.0.0.1 - - [05/Oct/2021 18:48:18] \"POST /_dash-update-component HTTP/1.1\" 200 -\n",
      "127.0.0.1 - - [05/Oct/2021 18:48:31] \"POST /_dash-update-component HTTP/1.1\" 200 -\n",
      "127.0.0.1 - - [05/Oct/2021 18:48:31] \"POST /_dash-update-component HTTP/1.1\" 200 -\n",
      "127.0.0.1 - - [05/Oct/2021 18:48:34] \"POST /_dash-update-component HTTP/1.1\" 200 -\n",
      "127.0.0.1 - - [05/Oct/2021 18:48:45] \"POST /_dash-update-component HTTP/1.1\" 200 -\n",
      "127.0.0.1 - - [05/Oct/2021 18:48:48] \"POST /_dash-update-component HTTP/1.1\" 200 -\n",
      "127.0.0.1 - - [05/Oct/2021 18:49:07] \"POST /_dash-update-component HTTP/1.1\" 200 -\n",
      "127.0.0.1 - - [05/Oct/2021 18:49:07] \"POST /_dash-update-component HTTP/1.1\" 200 -\n",
      "127.0.0.1 - - [05/Oct/2021 18:49:10] \"POST /_dash-update-component HTTP/1.1\" 200 -\n",
      "127.0.0.1 - - [05/Oct/2021 18:49:12] \"POST /_dash-update-component HTTP/1.1\" 200 -\n",
      "127.0.0.1 - - [05/Oct/2021 18:49:20] \"POST /_dash-update-component HTTP/1.1\" 200 -\n",
      "127.0.0.1 - - [05/Oct/2021 18:49:20] \"POST /_dash-update-component HTTP/1.1\" 200 -\n",
      "127.0.0.1 - - [05/Oct/2021 18:49:24] \"POST /_dash-update-component HTTP/1.1\" 200 -\n",
      "127.0.0.1 - - [05/Oct/2021 18:49:32] \"POST /_dash-update-component HTTP/1.1\" 200 -\n",
      "127.0.0.1 - - [05/Oct/2021 18:49:33] \"POST /_dash-update-component HTTP/1.1\" 200 -\n",
      "127.0.0.1 - - [05/Oct/2021 18:49:36] \"POST /_dash-update-component HTTP/1.1\" 200 -\n",
      "127.0.0.1 - - [05/Oct/2021 18:55:06] \"POST /_dash-update-component HTTP/1.1\" 200 -\n",
      "127.0.0.1 - - [05/Oct/2021 18:55:07] \"POST /_dash-update-component HTTP/1.1\" 200 -\n",
      "127.0.0.1 - - [05/Oct/2021 18:55:09] \"POST /_dash-update-component HTTP/1.1\" 200 -\n",
      "127.0.0.1 - - [05/Oct/2021 18:55:09] \"POST /_dash-update-component HTTP/1.1\" 200 -\n",
      "127.0.0.1 - - [05/Oct/2021 19:01:18] \"POST /_dash-update-component HTTP/1.1\" 200 -\n",
      "127.0.0.1 - - [05/Oct/2021 19:01:18] \"POST /_dash-update-component HTTP/1.1\" 200 -\n",
      "127.0.0.1 - - [05/Oct/2021 19:02:41] \"POST /_dash-update-component HTTP/1.1\" 200 -\n",
      "127.0.0.1 - - [05/Oct/2021 19:02:41] \"POST /_dash-update-component HTTP/1.1\" 200 -\n",
      "127.0.0.1 - - [05/Oct/2021 19:02:42] \"POST /_dash-update-component HTTP/1.1\" 200 -\n",
      "127.0.0.1 - - [05/Oct/2021 19:02:42] \"POST /_dash-update-component HTTP/1.1\" 200 -\n",
      "127.0.0.1 - - [05/Oct/2021 19:02:59] \"POST /_dash-update-component HTTP/1.1\" 200 -\n",
      "127.0.0.1 - - [05/Oct/2021 19:02:59] \"POST /_dash-update-component HTTP/1.1\" 200 -\n",
      "127.0.0.1 - - [05/Oct/2021 19:03:01] \"POST /_dash-update-component HTTP/1.1\" 200 -\n",
      "127.0.0.1 - - [05/Oct/2021 19:03:01] \"POST /_dash-update-component HTTP/1.1\" 200 -\n",
      "127.0.0.1 - - [05/Oct/2021 19:03:03] \"POST /_dash-update-component HTTP/1.1\" 200 -\n",
      "127.0.0.1 - - [05/Oct/2021 19:03:03] \"POST /_dash-update-component HTTP/1.1\" 200 -\n",
      "127.0.0.1 - - [05/Oct/2021 19:04:25] \"POST /_dash-update-component HTTP/1.1\" 200 -\n",
      "127.0.0.1 - - [05/Oct/2021 19:04:25] \"POST /_dash-update-component HTTP/1.1\" 200 -\n",
      "127.0.0.1 - - [05/Oct/2021 19:04:28] \"POST /_dash-update-component HTTP/1.1\" 200 -\n",
      "127.0.0.1 - - [05/Oct/2021 19:04:32] \"POST /_dash-update-component HTTP/1.1\" 200 -\n",
      "127.0.0.1 - - [05/Oct/2021 19:04:49] \"POST /_dash-update-component HTTP/1.1\" 200 -\n",
      "127.0.0.1 - - [05/Oct/2021 19:04:59] \"POST /_dash-update-component HTTP/1.1\" 200 -\n",
      "127.0.0.1 - - [05/Oct/2021 19:05:03] \"POST /_dash-update-component HTTP/1.1\" 200 -\n",
      "127.0.0.1 - - [05/Oct/2021 19:05:06] \"POST /_dash-update-component HTTP/1.1\" 200 -\n",
      "127.0.0.1 - - [05/Oct/2021 19:05:12] \"POST /_dash-update-component HTTP/1.1\" 200 -\n",
      "127.0.0.1 - - [05/Oct/2021 19:05:15] \"POST /_dash-update-component HTTP/1.1\" 200 -\n",
      "127.0.0.1 - - [05/Oct/2021 19:05:24] \"POST /_dash-update-component HTTP/1.1\" 200 -\n",
      "127.0.0.1 - - [05/Oct/2021 19:05:27] \"POST /_dash-update-component HTTP/1.1\" 200 -\n",
      "127.0.0.1 - - [05/Oct/2021 19:05:30] \"POST /_dash-update-component HTTP/1.1\" 200 -\n",
      "127.0.0.1 - - [05/Oct/2021 19:05:33] \"POST /_dash-update-component HTTP/1.1\" 200 -\n",
      "127.0.0.1 - - [05/Oct/2021 19:05:37] \"POST /_dash-update-component HTTP/1.1\" 200 -\n",
      "127.0.0.1 - - [05/Oct/2021 19:05:45] \"POST /_dash-update-component HTTP/1.1\" 200 -\n",
      "127.0.0.1 - - [05/Oct/2021 19:06:36] \"POST /_dash-update-component HTTP/1.1\" 200 -\n",
      "127.0.0.1 - - [05/Oct/2021 19:06:39] \"POST /_dash-update-component HTTP/1.1\" 200 -\n",
      "127.0.0.1 - - [05/Oct/2021 19:06:48] \"POST /_dash-update-component HTTP/1.1\" 200 -\n"
     ]
    }
   ],
   "source": [
    "# Run the app\n",
    "if __name__ == '__main__':\n",
    "    app.run_server()"
   ]
  }
 ],
 "metadata": {
  "kernelspec": {
   "display_name": "Python 3 (ipykernel)",
   "language": "python",
   "name": "python3"
  },
  "language_info": {
   "codemirror_mode": {
    "name": "ipython",
    "version": 3
   },
   "file_extension": ".py",
   "mimetype": "text/x-python",
   "name": "python",
   "nbconvert_exporter": "python",
   "pygments_lexer": "ipython3",
   "version": "3.9.5"
  }
 },
 "nbformat": 4,
 "nbformat_minor": 5
}
